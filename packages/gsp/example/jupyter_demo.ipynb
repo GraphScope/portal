{
 "cells": [
  {
   "cell_type": "code",
   "execution_count": 1,
   "id": "f9557365-4129-4881-ab51-72d2ca6f7db7",
   "metadata": {},
   "outputs": [
    {
     "name": "stdout",
     "output_type": "stream",
     "text": [
      "0.1.0\n",
      "/Users/pomelo/Desktop/github/portal/packages/gsp/.venv/bin/python\n"
     ]
    }
   ],
   "source": [
    "import gsp\n",
    "import sys\n",
    "print(gsp.__version__)\n",
    "print(sys.executable)"
   ]
  },
  {
   "cell_type": "code",
   "execution_count": 4,
   "id": "4046c77f",
   "metadata": {
    "scrolled": true
   },
   "outputs": [
    {
     "data": {
      "text/html": [
       "<!doctype html>\n",
       "<html lang=\"en\">\n",
       "  <head>\n",
       "    <meta charset=\"UTF-8\" />\n",
       "    <meta name=\"viewport\" content=\"width=device-width, initial-scale=1.0\" />\n",
       "    <title>Document</title>\n",
       "  </head>\n",
       "  <body>\n",
       "    <div id=\"root-ujumao5pp\"></div>\n",
       "    <script>\n",
       "      function loadScript(url) {\n",
       "        return new Promise(function (resolve, reject) {\n",
       "          var script = document.createElement('script');\n",
       "          script.type = 'text/javascript';\n",
       "          script.src = url;\n",
       "          script.onload = resolve;\n",
       "          script.onerror = reject;\n",
       "          document.head.appendChild(script);\n",
       "        });\n",
       "      }\n",
       "      function loadCSS(url) {\n",
       "        return new Promise(function (resolve, reject) {\n",
       "          var link = document.createElement('link');\n",
       "          link.rel = 'stylesheet';\n",
       "          link.href = url;\n",
       "          link.onload = resolve;\n",
       "          link.onerror = reject;\n",
       "          document.head.appendChild(link);\n",
       "        });\n",
       "      }\n",
       "      // 先加载必须的两个 JavaScript 文件\n",
       "      Promise.all([\n",
       "        loadScript('https://gw.alipayobjects.com/os/lib/react/18.2.0/umd/react.production.min.js'),\n",
       "        loadScript('https://gw.alipayobjects.com/os/lib/react-dom/18.2.0/umd/react-dom.production.min.js'),\n",
       "      ])\n",
       "        .then(function () {\n",
       "          // 必须的两个脚本加载完成后，再加载其他的 JavaScript 文件\n",
       "          return Promise.all([\n",
       "            loadScript('http://127.0.0.1:5500/packages/studio-query/dist/index.min.js'),\n",
       "            // loadScript('http://127.0.0.1:5500/packages/studio-query/dist/5.index.min.js'),\n",
       "            // loadScript('http://127.0.0.1:5500/packages/studio-query/dist/597.index.min.js'),\n",
       "            loadCSS('http://127.0.0.1:5500/packages/studio-query/dist/index.css'),\n",
       "          ]);\n",
       "        })\n",
       "        .then(function () {\n",
       "          const { default: sdk } = window.STUDIO_QUERY_SDK;\n",
       "          const id = 'root-ujumao5pp';\n",
       "          sdk.render_query_statement({ id });\n",
       "        })\n",
       "        .catch(function (error) {\n",
       "          console.error('加载脚本时出错：', error);\n",
       "        });\n",
       "    </script>\n",
       "  </body>\n",
       "</html>\n"
      ],
      "text/plain": [
       "<IPython.core.display.HTML object>"
      ]
     },
     "metadata": {},
     "output_type": "display_data"
    }
   ],
   "source": [
    "gsp.querying()"
   ]
  },
  {
   "cell_type": "code",
   "execution_count": null,
   "id": "6eb68ce9-d2de-4313-8c33-ea6c96508f7c",
   "metadata": {},
   "outputs": [],
   "source": []
  },
  {
   "cell_type": "code",
   "execution_count": null,
   "id": "63d8e284-18bd-4696-b6d0-092917144a77",
   "metadata": {},
   "outputs": [],
   "source": []
  },
  {
   "cell_type": "code",
   "execution_count": null,
   "id": "bc739360-b441-46ed-b34c-73e0e1ef8cd6",
   "metadata": {},
   "outputs": [],
   "source": []
  }
 ],
 "metadata": {
  "kernelspec": {
   "display_name": "Python (gsp_venv)",
   "language": "python",
   "name": "gsp_venv"
  },
  "language_info": {
   "codemirror_mode": {
    "name": "ipython",
    "version": 3
   },
   "file_extension": ".py",
   "mimetype": "text/x-python",
   "name": "python",
   "nbconvert_exporter": "python",
   "pygments_lexer": "ipython3",
   "version": "3.11.8"
  }
 },
 "nbformat": 4,
 "nbformat_minor": 5
}
