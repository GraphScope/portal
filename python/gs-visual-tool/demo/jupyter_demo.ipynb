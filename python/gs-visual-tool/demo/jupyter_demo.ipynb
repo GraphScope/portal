{
 "cells": [
  {
   "cell_type": "code",
   "execution_count": 5,
   "id": "6e7b67a4-e4bf-44ed-b19f-51f1ec8f9b2e",
   "metadata": {},
   "outputs": [],
   "source": [
    "import gs_visual_tool"
   ]
  },
  {
   "cell_type": "code",
   "execution_count": 2,
   "id": "0a12aac4-48ab-48fb-ab6a-f495abefa7f6",
   "metadata": {},
   "outputs": [
    {
     "name": "stdout",
     "output_type": "stream",
     "text": [
      "Jupyter Notebook\n"
     ]
    }
   ],
   "source": [
    "print(gs_visual_tool.detect_environment())"
   ]
  },
  {
   "cell_type": "code",
   "execution_count": 7,
   "id": "0662b123-3865-42e2-971c-3ada20bcd408",
   "metadata": {},
   "outputs": [
    {
     "data": {
      "text/html": [
       "<!doctype html>\n",
       "<html lang=\"en\">\n",
       "  <head>\n",
       "    <meta charset=\"UTF-8\" />\n",
       "    <meta name=\"viewport\" content=\"width=device-width, initial-scale=1.0\" />\n",
       "    <title>Document</title>\n",
       "  </head>\n",
       "  <body>\n",
       "    <div id=\"root-9fthsctkh\"></div>\n",
       "    <script>\n",
       "      function loadScript(url) {\n",
       "        return new Promise(function (resolve, reject) {\n",
       "          var script = document.createElement('script');\n",
       "          script.type = 'text/javascript';\n",
       "          script.src = url;\n",
       "          script.onload = resolve;\n",
       "          script.onerror = reject;\n",
       "          document.head.appendChild(script);\n",
       "        });\n",
       "      }\n",
       "      function loadCSS(url) {\n",
       "        return new Promise(function (resolve, reject) {\n",
       "          var link = document.createElement('link');\n",
       "          link.rel = 'stylesheet';\n",
       "          link.href = url;\n",
       "          link.onload = resolve;\n",
       "          link.onerror = reject;\n",
       "          document.head.appendChild(link);\n",
       "        });\n",
       "      }\n",
       "      // 先加载必须的两个 JavaScript 文件\n",
       "      Promise.all([\n",
       "        loadScript('https://gw.alipayobjects.com/os/lib/react/18.2.0/umd/react.production.min.js'),\n",
       "        loadScript('https://gw.alipayobjects.com/os/lib/react-dom/18.2.0/umd/react-dom.production.min.js'),\n",
       "      ])\n",
       "        .then(function () {\n",
       "          // 必须的两个脚本加载完成后，再加载其他的 JavaScript 文件\n",
       "          return Promise.all([\n",
       "            loadScript('http://127.0.0.1:5500/packages/studio-query/dist/index.min.js'),\n",
       "            loadScript('http://127.0.0.1:5500/packages/studio-query/dist/5.index.min.js'),\n",
       "            loadScript('http://127.0.0.1:5500/packages/studio-query/dist/597.index.min.js'),\n",
       "            loadCSS('http://127.0.0.1:5500/packages/studio-query/dist/index.css'),\n",
       "          ]);\n",
       "        })\n",
       "        .then(function () {\n",
       "          const { default: sdk } = window.STUDIO_QUERY_SDK;\n",
       "          const id = 'root-9fthsctkh';\n",
       "          sdk.render_query_statement({ id });\n",
       "        })\n",
       "        .catch(function (error) {\n",
       "          console.error('加载脚本时出错：', error);\n",
       "        });\n",
       "    </script>\n",
       "  </body>\n",
       "</html>\n"
      ],
      "text/plain": [
       "<IPython.core.display.HTML object>"
      ]
     },
     "metadata": {},
     "output_type": "display_data"
    }
   ],
   "source": [
    "gs_visual_tool.querying()"
   ]
  }
 ],
 "metadata": {
  "kernelspec": {
   "display_name": "Python 3 (ipykernel)",
   "language": "python",
   "name": "python3"
  },
  "language_info": {
   "codemirror_mode": {
    "name": "ipython",
    "version": 3
   },
   "file_extension": ".py",
   "mimetype": "text/x-python",
   "name": "python",
   "nbconvert_exporter": "python",
   "pygments_lexer": "ipython3",
   "version": "3.11.8"
  }
 },
 "nbformat": 4,
 "nbformat_minor": 5
}
